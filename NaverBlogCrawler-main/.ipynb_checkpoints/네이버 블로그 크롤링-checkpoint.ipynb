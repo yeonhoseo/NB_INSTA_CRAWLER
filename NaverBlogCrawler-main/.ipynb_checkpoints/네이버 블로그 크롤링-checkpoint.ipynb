{
 "cells": [
  {
   "cell_type": "markdown",
   "id": "7595f51c",
   "metadata": {},
   "source": [
    "##### 작성자  : 손해원\n",
    "- 주 기능 : 네이버 블로그에서 키워드로 검색 후 포스팅 원문을 수집합니다. \n",
    "- 수집 가능 항목 : 원문url, 글제목, 글쓴이, 작성날짜, 원문, 해쉬태그 "
   ]
  },
  {
   "cell_type": "code",
   "execution_count": 1,
   "id": "b04cf7ff",
   "metadata": {},
   "outputs": [],
   "source": [
    "import pandas as pd\n",
    "from selenium import webdriver\n",
    "import time\n",
    "from tqdm import tqdm "
   ]
  },
  {
   "cell_type": "code",
   "execution_count": 2,
   "id": "f70143bc",
   "metadata": {},
   "outputs": [],
   "source": [
    "driver = webdriver.Chrome('/home/haewon/chromedriver') #### 드라이버 경로 설정 "
   ]
  },
  {
   "cell_type": "markdown",
   "id": "615c2b81",
   "metadata": {},
   "source": [
    "##### 검색어, 날짜 설정 \n",
    "- 최근 1년동안의 url만 모으기 위해 시작 날짜와 마지막 날짜를 설정합니다."
   ]
  },
  {
   "cell_type": "code",
   "execution_count": null,
   "id": "d39adb79",
   "metadata": {},
   "outputs": [],
   "source": [
    "keyword = '부산%20맛집'  ### 검색할 키워드 설정 \n",
    "startDate ='2020-11-01' ### 시작날짜\n",
    "endDate = '2021-11-23'  ### 마지막날짜 "
   ]
  },
  {
   "cell_type": "markdown",
   "id": "40de8b77",
   "metadata": {},
   "source": [
    "##### 드라이버 오픈"
   ]
  },
  {
   "cell_type": "code",
   "execution_count": 3,
   "id": "6d69259f",
   "metadata": {},
   "outputs": [],
   "source": [
    "url = f'https://section.blog.naver.com/Search/Post.naver?pageNo=1&rangeType=PERIOD&orderBy=sim&startDate={startDate}&endDate={endDate}&keyword={keyword}'\n",
    "driver.get(url)"
   ]
  },
  {
   "cell_type": "markdown",
   "id": "ea4d29ef",
   "metadata": {},
   "source": [
    "##### url 수집"
   ]
  },
  {
   "cell_type": "code",
   "execution_count": null,
   "id": "61dd7330",
   "metadata": {},
   "outputs": [],
   "source": [
    "search_number = int(driver.find_element_by_class_name('search_number').text.replace(',','').replace('건','')) # 총 게시물 수 \n",
    "hrefs = driver.find_elements_by_class_name('desc_inner')\n",
    "url_list = []\n",
    "num = 1 \n",
    "\n",
    "for num in tqdm(range(1, int(search_number/7))):  # 총 게시물 수/7(한 페이지당 게시물 수)\n",
    "    for i in range(len(hrefs)):\n",
    "        \n",
    "        # url 수집 후 리스트에 저장 \n",
    "        time.sleep(0.5)\n",
    "        href = driver.find_elements_by_class_name('desc_inner')[i].get_attribute('href')\n",
    "        url_list.append(href)\n",
    "        \n",
    "    # 다음 페이지로 이동 \n",
    "    num += 1 \n",
    "    driver.get(f'https://section.blog.naver.com/Search/Post.naver?pageNo={num}&rangeType=PERIOD&orderBy=sim&startDate={startDate}&endDate={endDate}&keyword={keyword}')\n",
    "    \n",
    "##### 600페이지 정도 수집하면 에러로 끝납니다. 추후 수정할 예정"
   ]
  },
  {
   "cell_type": "code",
   "execution_count": 5,
   "id": "bed642de",
   "metadata": {
    "scrolled": true
   },
   "outputs": [
    {
     "data": {
      "text/plain": [
       "4000"
      ]
     },
     "execution_count": 5,
     "metadata": {},
     "output_type": "execute_result"
    }
   ],
   "source": [
    "len(url_list) # 수집된 게시물 수 "
   ]
  },
  {
   "cell_type": "markdown",
   "id": "50096db8",
   "metadata": {},
   "source": [
    "##### 본문 스크랩"
   ]
  },
  {
   "cell_type": "code",
   "execution_count": 6,
   "id": "ebb9d9b2",
   "metadata": {},
   "outputs": [
    {
     "name": "stderr",
     "output_type": "stream",
     "text": [
      "100%|██████████| 4000/4000 [3:09:36<00:00,  2.84s/it]  \n"
     ]
    }
   ],
   "source": [
    "title_list = []\n",
    "writer_list = []\n",
    "date_list = []\n",
    "text_list = []\n",
    "tag_list = []\n",
    "\n",
    "for i in tqdm(range(len(url_list))):\n",
    "    driver.get(url_list[i])\n",
    "    element = driver.find_element_by_id(\"mainFrame\") #iframe 태그 엘리먼트 찾기\n",
    "    driver.switch_to.frame(element) #프레임 이동\n",
    "    \n",
    "    title = driver.find_element_by_class_name('pcol1').text # 제목 \n",
    "    title_list.append(title)\n",
    "    writer = driver.find_element_by_class_name('nick').text # 글쓴이\n",
    "    writer_list.append(writer)\n",
    "    time.sleep(1)\n",
    "    try:\n",
    "        date = driver.find_element_by_class_name('se_publishDate.pcol2').text # 작성일 \n",
    "        date_list.append(date)\n",
    "    except:\n",
    "        date_list.append(\"NULL\")\n",
    "    try:\n",
    "        text = driver.find_element_by_class_name('se-main-container').text.replace('\\n',' ') # 본문 \n",
    "        text_list.append(text)\n",
    "    except:\n",
    "        text_list.append(\"NULL\")\n",
    "    \n",
    "    try: \n",
    "        tags = driver.find_elements_by_class_name('item.pcol2.itemTagfont._setTop')\n",
    "        tags_dummy = []\n",
    "        for j in range(len(tags)):\n",
    "            tag = driver.find_elements_by_class_name('item.pcol2.itemTagfont._setTop')[j].text.replace('#','')  # 해쉬태그\n",
    "            tags_dummy.append(tag)\n",
    "        tag_list.append(tags_dummy)\n",
    "    except:\n",
    "        tag_list.append(\"NULL\")\n",
    "        \n",
    "    "
   ]
  },
  {
   "cell_type": "code",
   "execution_count": 22,
   "id": "cb72755f",
   "metadata": {},
   "outputs": [
    {
     "name": "stdout",
     "output_type": "stream",
     "text": [
      "4000\n",
      "4000\n",
      "4000\n",
      "4000\n",
      "4000\n",
      "4000\n"
     ]
    }
   ],
   "source": [
    "print(len(url_list))\n",
    "print(len(title_list))\n",
    "print(len(writer_list))\n",
    "print(len(tag_list))\n",
    "print(len(writer_list))\n",
    "print(len(text_list))"
   ]
  },
  {
   "cell_type": "markdown",
   "id": "41abc5ea",
   "metadata": {},
   "source": [
    "##### DataFrame화"
   ]
  },
  {
   "cell_type": "code",
   "execution_count": 23,
   "id": "66d610a0",
   "metadata": {},
   "outputs": [],
   "source": [
    "blog = pd.DataFrame(\n",
    "    {\n",
    "        \"dataSource\":\"NAVER_BLOG\",\n",
    "        \"searchKeyword\":\"부산 맛집\",\n",
    "        \"postingUrl\":url_list,\n",
    "        \"title\":title_list,\n",
    "        \"author\":[writer_list[x].replace('\\n','') for x in range(len(writer_list))],\n",
    "        \"postingDate\":date_list,\n",
    "        \"postingText\":text_list,\n",
    "        \"hashtags\":tag_list\n",
    "    }\n",
    ")"
   ]
  },
  {
   "cell_type": "code",
   "execution_count": 24,
   "id": "d73e9a91",
   "metadata": {
    "collapsed": true
   },
   "outputs": [
    {
     "data": {
      "text/html": [
       "<div>\n",
       "<style scoped>\n",
       "    .dataframe tbody tr th:only-of-type {\n",
       "        vertical-align: middle;\n",
       "    }\n",
       "\n",
       "    .dataframe tbody tr th {\n",
       "        vertical-align: top;\n",
       "    }\n",
       "\n",
       "    .dataframe thead th {\n",
       "        text-align: right;\n",
       "    }\n",
       "</style>\n",
       "<table border=\"1\" class=\"dataframe\">\n",
       "  <thead>\n",
       "    <tr style=\"text-align: right;\">\n",
       "      <th></th>\n",
       "      <th>dataSource</th>\n",
       "      <th>searchKeyword</th>\n",
       "      <th>postingUrl</th>\n",
       "      <th>title</th>\n",
       "      <th>author</th>\n",
       "      <th>postingDate</th>\n",
       "      <th>postingText</th>\n",
       "      <th>hashtags</th>\n",
       "    </tr>\n",
       "  </thead>\n",
       "  <tbody>\n",
       "    <tr>\n",
       "      <th>0</th>\n",
       "      <td>NAVER_BLOG</td>\n",
       "      <td>부산 맛집</td>\n",
       "      <td>https://blog.naver.com/bomypapa/222507501262</td>\n",
       "      <td>대박이었던 부산 맛집 소개</td>\n",
       "      <td>ebom</td>\n",
       "      <td>2021. 9. 16. 10:36</td>\n",
       "      <td>얼마 전 친구들과 유명한 부산 맛집이 롯데백화점에 입점했다고 해 곧장 찾아가 봤어요...</td>\n",
       "      <td>[부산맛집, 모시모시롯데백화점광복점]</td>\n",
       "    </tr>\n",
       "    <tr>\n",
       "      <th>1</th>\n",
       "      <td>NAVER_BLOG</td>\n",
       "      <td>부산 맛집</td>\n",
       "      <td>https://blog.naver.com/youriful/222553223837</td>\n",
       "      <td>백점이었던 부산 맛집 모음</td>\n",
       "      <td>유리풀</td>\n",
       "      <td>2021. 10. 30. 11:51</td>\n",
       "      <td>지난주 지인들과 모임이 있어 미리 찾아봐뒀던 부산 맛집에서 식사를 했어요.  신선한...</td>\n",
       "      <td>[부산맛집]</td>\n",
       "    </tr>\n",
       "    <tr>\n",
       "      <th>2</th>\n",
       "      <td>NAVER_BLOG</td>\n",
       "      <td>부산 맛집</td>\n",
       "      <td>https://blog.naver.com/mizuhara411/222542021435</td>\n",
       "      <td>인상깊었던 부산 맛집 공유</td>\n",
       "      <td>비비빅</td>\n",
       "      <td>2021. 10. 20. 8:10</td>\n",
       "      <td>얼마 전 지인들과 모임을 위해 미리 검색해둔 부산 맛집에 방문했습니다. 선도 높은 ...</td>\n",
       "      <td>[부산맛집, 모시모시]</td>\n",
       "    </tr>\n",
       "    <tr>\n",
       "      <th>3</th>\n",
       "      <td>NAVER_BLOG</td>\n",
       "      <td>부산 맛집</td>\n",
       "      <td>https://blog.naver.com/sosmarrin/222530392743</td>\n",
       "      <td>필수코스였던 부산 맛집 리스트</td>\n",
       "      <td>승현(sosmarrin)</td>\n",
       "      <td>2021. 10. 8. 1:38</td>\n",
       "      <td>친구들과 주말에 떠났던 부산 여행에서 다들 같이 부산 맛집 투어를 다녀봤어요. 그중...</td>\n",
       "      <td>[]</td>\n",
       "    </tr>\n",
       "    <tr>\n",
       "      <th>4</th>\n",
       "      <td>NAVER_BLOG</td>\n",
       "      <td>부산 맛집</td>\n",
       "      <td>https://blog.naver.com/whgiddnjs/222317058957</td>\n",
       "      <td>호불호 없는 부산 맛집 리스트</td>\n",
       "      <td>미미쵸코(whgiddnjs)</td>\n",
       "      <td>2021. 4. 20. 20:37</td>\n",
       "      <td>얼마 전 친구네 집들이를 갔다가 현지인들도 인정한다는 부산 맛집을 방문했어요.  다...</td>\n",
       "      <td>[]</td>\n",
       "    </tr>\n",
       "    <tr>\n",
       "      <th>...</th>\n",
       "      <td>...</td>\n",
       "      <td>...</td>\n",
       "      <td>...</td>\n",
       "      <td>...</td>\n",
       "      <td>...</td>\n",
       "      <td>...</td>\n",
       "      <td>...</td>\n",
       "      <td>...</td>\n",
       "    </tr>\n",
       "    <tr>\n",
       "      <th>3995</th>\n",
       "      <td>NAVER_BLOG</td>\n",
       "      <td>부산 맛집</td>\n",
       "      <td>https://blog.naver.com/ggll0000/222253419242</td>\n",
       "      <td>(부산맛집) 부산에 가면 꼭 가야하는 해운대가야밀면</td>\n",
       "      <td>새우새우(ggll0000)</td>\n",
       "      <td>2021. 2. 23. 11:38</td>\n",
       "      <td>안녕하세요. 오늘은 부산에 밀면,비빔밀면,만두로으로  유명한 곳이 있다고 해서 해운...</td>\n",
       "      <td>[부산맛집, 해운대맛집추천, 해운대밀면맛집, 해운대밀면, 밀면전문점, 해운대놀거리,...</td>\n",
       "    </tr>\n",
       "    <tr>\n",
       "      <th>3996</th>\n",
       "      <td>NAVER_BLOG</td>\n",
       "      <td>부산 맛집</td>\n",
       "      <td>https://blog.naver.com/ddobuck/222281656191</td>\n",
       "      <td>부산 맛집 : 춘하추동밀면 서면본점</td>\n",
       "      <td>또벅또벅(ddobuck)</td>\n",
       "      <td>2021. 3. 21. 12:50</td>\n",
       "      <td>\"춘하추동밀면 서면본점\" 부산 맛집 탐방 안녕하세요 또벅이입니다 😊 날씨가 한껏 풀...</td>\n",
       "      <td>[내돈내산, 춘하추동밀면, 서면맛집, 부산맛집, 부산밀면, 밀면맛집, 부산먹방]</td>\n",
       "    </tr>\n",
       "    <tr>\n",
       "      <th>3997</th>\n",
       "      <td>NAVER_BLOG</td>\n",
       "      <td>부산 맛집</td>\n",
       "      <td>https://blog.naver.com/call1028/222405553532</td>\n",
       "      <td>송정삼대국밥 / 부산 맛집 / 서면 맛집</td>\n",
       "      <td>someone(call1028)</td>\n",
       "      <td>2021. 6. 21. 20:25</td>\n",
       "      <td>갑자기 비오는 날 밥종류로 먹으려고 주변검색으로 메뉴 찾았는데 맛집이었다 ! 맛있는...</td>\n",
       "      <td>[]</td>\n",
       "    </tr>\n",
       "    <tr>\n",
       "      <th>3998</th>\n",
       "      <td>NAVER_BLOG</td>\n",
       "      <td>부산 맛집</td>\n",
       "      <td>https://blog.naver.com/tpwls7062/222410232607</td>\n",
       "      <td>[부산맛집] 뚜벅이 부산여행으로 방문한 멘즈키, 오엘이커피</td>\n",
       "      <td>ssezi(tpwls7062)</td>\n",
       "      <td>2021. 6. 25. 21:48</td>\n",
       "      <td>부산에 도착하자마자 방문한 곳은 “멘즈키”!! 츠케멘을 파는 가겐데 면을 육수에 적...</td>\n",
       "      <td>[부산, 부산맛집, 존맛, 츠케멘, 라멘, 부산여행, 맛집추천, 오엘이커피, ole...</td>\n",
       "    </tr>\n",
       "    <tr>\n",
       "      <th>3999</th>\n",
       "      <td>NAVER_BLOG</td>\n",
       "      <td>부산 맛집</td>\n",
       "      <td>https://blog.naver.com/dts286/222409005645</td>\n",
       "      <td>&lt;부산 맛집&gt; 영도 맛집 영도바다가 보이는 흰여울문화마을 맛집 “거인왕돈까스”</td>\n",
       "      <td>돈쩡</td>\n",
       "      <td>2021. 6. 24. 21:12</td>\n",
       "      <td>50m © NAVER Corp. 거인왕돈까스 부산광역시 영도구 절영로 218-2 부...</td>\n",
       "      <td>[거인왕돈까스, 부산, 영도, 여행, 흰여울마을, 부산맛집, 영도맛집, 부산여행, ...</td>\n",
       "    </tr>\n",
       "  </tbody>\n",
       "</table>\n",
       "<p>4000 rows × 8 columns</p>\n",
       "</div>"
      ],
      "text/plain": [
       "      dataSource searchKeyword  \\\n",
       "0     NAVER_BLOG         부산 맛집   \n",
       "1     NAVER_BLOG         부산 맛집   \n",
       "2     NAVER_BLOG         부산 맛집   \n",
       "3     NAVER_BLOG         부산 맛집   \n",
       "4     NAVER_BLOG         부산 맛집   \n",
       "...          ...           ...   \n",
       "3995  NAVER_BLOG         부산 맛집   \n",
       "3996  NAVER_BLOG         부산 맛집   \n",
       "3997  NAVER_BLOG         부산 맛집   \n",
       "3998  NAVER_BLOG         부산 맛집   \n",
       "3999  NAVER_BLOG         부산 맛집   \n",
       "\n",
       "                                           postingUrl  \\\n",
       "0        https://blog.naver.com/bomypapa/222507501262   \n",
       "1        https://blog.naver.com/youriful/222553223837   \n",
       "2     https://blog.naver.com/mizuhara411/222542021435   \n",
       "3       https://blog.naver.com/sosmarrin/222530392743   \n",
       "4       https://blog.naver.com/whgiddnjs/222317058957   \n",
       "...                                               ...   \n",
       "3995     https://blog.naver.com/ggll0000/222253419242   \n",
       "3996      https://blog.naver.com/ddobuck/222281656191   \n",
       "3997     https://blog.naver.com/call1028/222405553532   \n",
       "3998    https://blog.naver.com/tpwls7062/222410232607   \n",
       "3999       https://blog.naver.com/dts286/222409005645   \n",
       "\n",
       "                                            title             author  \\\n",
       "0                                  대박이었던 부산 맛집 소개               ebom   \n",
       "1                                  백점이었던 부산 맛집 모음                유리풀   \n",
       "2                                  인상깊었던 부산 맛집 공유                비비빅   \n",
       "3                                필수코스였던 부산 맛집 리스트      승현(sosmarrin)   \n",
       "4                                호불호 없는 부산 맛집 리스트    미미쵸코(whgiddnjs)   \n",
       "...                                           ...                ...   \n",
       "3995                 (부산맛집) 부산에 가면 꼭 가야하는 해운대가야밀면     새우새우(ggll0000)   \n",
       "3996                          부산 맛집 : 춘하추동밀면 서면본점      또벅또벅(ddobuck)   \n",
       "3997                      송정삼대국밥 / 부산 맛집 / 서면 맛집   someone(call1028)   \n",
       "3998             [부산맛집] 뚜벅이 부산여행으로 방문한 멘즈키, 오엘이커피   ssezi(tpwls7062)   \n",
       "3999  <부산 맛집> 영도 맛집 영도바다가 보이는 흰여울문화마을 맛집 “거인왕돈까스”                 돈쩡   \n",
       "\n",
       "              postingDate                                        postingText  \\\n",
       "0      2021. 9. 16. 10:36  얼마 전 친구들과 유명한 부산 맛집이 롯데백화점에 입점했다고 해 곧장 찾아가 봤어요...   \n",
       "1     2021. 10. 30. 11:51  지난주 지인들과 모임이 있어 미리 찾아봐뒀던 부산 맛집에서 식사를 했어요.  신선한...   \n",
       "2      2021. 10. 20. 8:10  얼마 전 지인들과 모임을 위해 미리 검색해둔 부산 맛집에 방문했습니다. 선도 높은 ...   \n",
       "3       2021. 10. 8. 1:38  친구들과 주말에 떠났던 부산 여행에서 다들 같이 부산 맛집 투어를 다녀봤어요. 그중...   \n",
       "4      2021. 4. 20. 20:37  얼마 전 친구네 집들이를 갔다가 현지인들도 인정한다는 부산 맛집을 방문했어요.  다...   \n",
       "...                   ...                                                ...   \n",
       "3995   2021. 2. 23. 11:38  안녕하세요. 오늘은 부산에 밀면,비빔밀면,만두로으로  유명한 곳이 있다고 해서 해운...   \n",
       "3996   2021. 3. 21. 12:50  \"춘하추동밀면 서면본점\" 부산 맛집 탐방 안녕하세요 또벅이입니다 😊 날씨가 한껏 풀...   \n",
       "3997   2021. 6. 21. 20:25  갑자기 비오는 날 밥종류로 먹으려고 주변검색으로 메뉴 찾았는데 맛집이었다 ! 맛있는...   \n",
       "3998   2021. 6. 25. 21:48  부산에 도착하자마자 방문한 곳은 “멘즈키”!! 츠케멘을 파는 가겐데 면을 육수에 적...   \n",
       "3999   2021. 6. 24. 21:12  50m © NAVER Corp. 거인왕돈까스 부산광역시 영도구 절영로 218-2 부...   \n",
       "\n",
       "                                               hashtags  \n",
       "0                                  [부산맛집, 모시모시롯데백화점광복점]  \n",
       "1                                                [부산맛집]  \n",
       "2                                          [부산맛집, 모시모시]  \n",
       "3                                                    []  \n",
       "4                                                    []  \n",
       "...                                                 ...  \n",
       "3995  [부산맛집, 해운대맛집추천, 해운대밀면맛집, 해운대밀면, 밀면전문점, 해운대놀거리,...  \n",
       "3996       [내돈내산, 춘하추동밀면, 서면맛집, 부산맛집, 부산밀면, 밀면맛집, 부산먹방]  \n",
       "3997                                                 []  \n",
       "3998  [부산, 부산맛집, 존맛, 츠케멘, 라멘, 부산여행, 맛집추천, 오엘이커피, ole...  \n",
       "3999  [거인왕돈까스, 부산, 영도, 여행, 흰여울마을, 부산맛집, 영도맛집, 부산여행, ...  \n",
       "\n",
       "[4000 rows x 8 columns]"
      ]
     },
     "execution_count": 24,
     "metadata": {},
     "output_type": "execute_result"
    }
   ],
   "source": [
    "blog"
   ]
  },
  {
   "cell_type": "markdown",
   "id": "12dd8049",
   "metadata": {},
   "source": [
    "##### csv file로 저장"
   ]
  },
  {
   "cell_type": "code",
   "execution_count": 26,
   "id": "a079ada9",
   "metadata": {},
   "outputs": [],
   "source": [
    "path = '/home/haewon/바탕화면/'\n",
    "file_name = 'Posting_NaverBlog_부산맛집-1124'"
   ]
  },
  {
   "cell_type": "code",
   "execution_count": 27,
   "id": "5eb1a06d",
   "metadata": {},
   "outputs": [],
   "source": [
    "blog.to_csv(f'{path}{file_name}.csv')"
   ]
  },
  {
   "cell_type": "code",
   "execution_count": null,
   "id": "0514e60c",
   "metadata": {},
   "outputs": [],
   "source": []
  }
 ],
 "metadata": {
  "kernelspec": {
   "display_name": "Python 3 (ipykernel)",
   "language": "python",
   "name": "python3"
  },
  "language_info": {
   "codemirror_mode": {
    "name": "ipython",
    "version": 3
   },
   "file_extension": ".py",
   "mimetype": "text/x-python",
   "name": "python",
   "nbconvert_exporter": "python",
   "pygments_lexer": "ipython3",
   "version": "3.9.7"
  }
 },
 "nbformat": 4,
 "nbformat_minor": 5
}
