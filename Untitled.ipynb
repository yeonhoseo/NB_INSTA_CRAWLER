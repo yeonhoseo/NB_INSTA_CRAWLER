{
 "cells": [
  {
   "cell_type": "markdown",
   "id": "8352233f",
   "metadata": {},
   "source": [
    "### 야놀자 (숙박) 크롤러 \n"
   ]
  },
  {
   "cell_type": "code",
   "execution_count": 1,
   "id": "61a23b15",
   "metadata": {},
   "outputs": [],
   "source": [
    "from selenium import webdriver\n",
    "import time\n",
    "import re\n",
    "import json\n",
    "import pandas as pd\n",
    "from selenium.webdriver.common.keys import Keys\n",
    "from selenium.webdriver.support.ui import WebDriverWait \n",
    "from selenium.webdriver.support import expected_conditions as EC\n",
    "from selenium.webdriver.common.by import By\n",
    "from tqdm import tqdm\n",
    "import os\n",
    "import multiprocessing\n",
    "from bs4 import BeautifulSoup\n",
    "from dateutil.parser import parse\n",
    "import datetime"
   ]
  },
  {
   "cell_type": "code",
   "execution_count": 8,
   "id": "daf55d56",
   "metadata": {},
   "outputs": [],
   "source": [
    "query_list = []\n",
    "dirver_path = 'C:/Users/seoyh/Desktop/PythonWorkspace/webdriver/chromedriver'\n",
    "site_url = 'https://www.yanolja.com/search/%7B%7D?keyword={}&searchKeyword={}'"
   ]
  },
  {
   "cell_type": "code",
   "execution_count": null,
   "id": "95c616c2",
   "metadata": {},
   "outputs": [],
   "source": []
  },
  {
   "cell_type": "code",
   "execution_count": 3,
   "id": "08620242",
   "metadata": {},
   "outputs": [],
   "source": [
    "# 드라이버 초기화 \n",
    "def init() :\n",
    "    driver = webdriver.Chrome(dirver_path)\n",
    "    #Cralwer Initialize \n",
    "    #\n",
    "    #"
   ]
  },
  {
   "cell_type": "code",
   "execution_count": null,
   "id": "c218f696",
   "metadata": {},
   "outputs": [],
   "source": [
    "def scrape_url(query_list) :\n",
    "    "
   ]
  },
  {
   "cell_type": "code",
   "execution_count": 5,
   "id": "e47f16de",
   "metadata": {},
   "outputs": [],
   "source": [
    "def scrape_content() :\n",
    "    pass"
   ]
  },
  {
   "cell_type": "code",
   "execution_count": 7,
   "id": "8afde2fd",
   "metadata": {},
   "outputs": [],
   "source": [
    "def main() :\n",
    "    init()\n",
    "    url_list = []\n",
    "    for query in query_list :\n",
    "        scrape_url(query)\n",
    "    for url_list in url_list \n",
    "        "
   ]
  }
 ],
 "metadata": {
  "kernelspec": {
   "display_name": "Python 3 (ipykernel)",
   "language": "python",
   "name": "python3"
  },
  "language_info": {
   "codemirror_mode": {
    "name": "ipython",
    "version": 3
   },
   "file_extension": ".py",
   "mimetype": "text/x-python",
   "name": "python",
   "nbconvert_exporter": "python",
   "pygments_lexer": "ipython3",
   "version": "3.9.7"
  }
 },
 "nbformat": 4,
 "nbformat_minor": 5
}
