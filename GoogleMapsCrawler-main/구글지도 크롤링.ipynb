{
 "cells": [
  {
   "cell_type": "markdown",
   "id": "de1a281f",
   "metadata": {},
   "source": [
    "###### 작성자 : 손해원\n",
    "- 주 기능 : 구글지도에서 키워드로 검색 후 해당 장소에 대한 리뷰를 수집합니다.\n",
    "- 수집 가능 항목 : 장소 이름, 페이지url, 리뷰작성자, 리뷰날짜, 리뷰내용, 별점"
   ]
  },
  {
   "cell_type": "code",
   "execution_count": 1,
   "id": "6d50349f",
   "metadata": {},
   "outputs": [],
   "source": [
    "from selenium import webdriver\n",
    "from selenium.webdriver.common.keys import Keys\n",
    "from tqdm import tqdm\n",
    "import pandas as pd\n",
    "import time"
   ]
  },
  {
   "cell_type": "code",
   "execution_count": 2,
   "id": "0e765600",
   "metadata": {},
   "outputs": [],
   "source": [
    "driver_path = 'C:/Users/seoyh/Desktop/PythonWorkspace/webdriver/chromedriver' # 크롬드라이버 경로 설정\n",
    "keyword = '김천 숙박'   ## 검색어 설정 \n",
    "file_path = 'C:/Users/seoyh/Desktop/PythonWorkspace/Jupyter_worksapce/Data/2022-01-11'    ### 저장할 경로 \n",
    "file_name = 'google_김천숙박'      ### 저장할 이름 "
   ]
  },
  {
   "cell_type": "code",
   "execution_count": 3,
   "id": "fff58ddf",
   "metadata": {},
   "outputs": [],
   "source": [
    "url = f'https://www.google.com/maps/search/{keyword}' "
   ]
  },
  {
   "cell_type": "code",
   "execution_count": 4,
   "id": "15955db5",
   "metadata": {},
   "outputs": [
    {
     "name": "stderr",
     "output_type": "stream",
     "text": [
      "C:\\Users\\seoyh\\AppData\\Local\\Temp/ipykernel_16888/3304505801.py:1: DeprecationWarning: executable_path has been deprecated, please pass in a Service object\n",
      "  driver = webdriver.Chrome(driver_path)\n"
     ]
    }
   ],
   "source": [
    "driver = webdriver.Chrome(driver_path)\n",
    "driver.get(url)"
   ]
  },
  {
   "cell_type": "markdown",
   "id": "4e89dfcb",
   "metadata": {},
   "source": [
    "##### url 수집"
   ]
  },
  {
   "cell_type": "code",
   "execution_count": 5,
   "id": "28130c42",
   "metadata": {},
   "outputs": [
    {
     "name": "stderr",
     "output_type": "stream",
     "text": [
      "C:\\Users\\seoyh\\AppData\\Local\\Temp/ipykernel_16888/3208370182.py:6: DeprecationWarning: find_element_by_* commands are deprecated. Please use find_element() instead\n",
      "  driver.find_element_by_class_name('a4gq8e-aVTXAb-haAclf-jRmmHf-hSRGPd').send_keys(Keys.PAGE_DOWN)\n",
      "C:\\Users\\seoyh\\AppData\\Local\\Temp/ipykernel_16888/3208370182.py:8: DeprecationWarning: find_elements_by_* commands are deprecated. Please use find_elements() instead\n",
      "  upso_list = driver.find_elements_by_class_name('a4gq8e-aVTXAb-haAclf-jRmmHf-hSRGPd') # 식당 리스트\n",
      "C:\\Users\\seoyh\\AppData\\Local\\Temp/ipykernel_16888/3208370182.py:19: DeprecationWarning: find_element_by_* commands are deprecated. Please use find_element() instead\n",
      "  driver.find_element_by_css_selector('#ppdPk-Ej1Yeb-LgbsSe-tJiF1e > img').click() # 다음 페이지 클릭\n"
     ]
    }
   ],
   "source": [
    "url_list = []\n",
    "j = 0\n",
    "\n",
    "for x in range(20):\n",
    "    for i in range(10): # 페이지 스크롤 다운 기능 \n",
    "        driver.find_element_by_class_name('a4gq8e-aVTXAb-haAclf-jRmmHf-hSRGPd').send_keys(Keys.PAGE_DOWN)\n",
    "\n",
    "    upso_list = driver.find_elements_by_class_name('a4gq8e-aVTXAb-haAclf-jRmmHf-hSRGPd') # 식당 리스트\n",
    "    try:\n",
    "        for j in range(len(upso_list)): # url 스크랩 \n",
    "            time.sleep(2)\n",
    "            detail_url = upso_list[j].get_attribute('href')\n",
    "            url_list.append(detail_url)\n",
    "            j += 1\n",
    "    except:\n",
    "        continue\n",
    "        \n",
    "    try:\n",
    "        driver.find_element_by_css_selector('#ppdPk-Ej1Yeb-LgbsSe-tJiF1e > img').click() # 다음 페이지 클릭 \n",
    "    except:\n",
    "        break\n",
    "        \n",
    "### 검색 내역이 끝나면 종료됨"
   ]
  },
  {
   "cell_type": "code",
   "execution_count": 6,
   "id": "b89545ed",
   "metadata": {},
   "outputs": [
    {
     "name": "stdout",
     "output_type": "stream",
     "text": [
      "수집된 url 개수: 209 개\n"
     ]
    }
   ],
   "source": [
    "print('수집된 url 개수:',len(url_list),'개')"
   ]
  },
  {
   "cell_type": "markdown",
   "id": "7276bcec",
   "metadata": {},
   "source": [
    "###### 리뷰 스크랩"
   ]
  },
  {
   "cell_type": "code",
   "execution_count": 7,
   "id": "82d5224b",
   "metadata": {
    "scrolled": true
   },
   "outputs": [
    {
     "name": "stderr",
     "output_type": "stream",
     "text": [
      "C:\\Users\\seoyh\\AppData\\Local\\Temp/ipykernel_16888/2153921590.py:14: DeprecationWarning: find_element_by_* commands are deprecated. Please use find_element() instead\n",
      "  restaurant = driver.find_element_by_class_name('x3AX1-LfntMc-header-title-title.gm2-headline-5').text\n"
     ]
    },
    {
     "ename": "NoSuchElementException",
     "evalue": "Message: no such element: Unable to locate element: {\"method\":\"css selector\",\"selector\":\".x3AX1-LfntMc-header-title-title.gm2-headline-5\"}\n  (Session info: chrome=97.0.4692.71)\nStacktrace:\nBacktrace:\n\tOrdinal0 [0x0043FDC3+2555331]\n\tOrdinal0 [0x003D77F1+2127857]\n\tOrdinal0 [0x002D2E08+1060360]\n\tOrdinal0 [0x002FE49E+1238174]\n\tOrdinal0 [0x002FE69B+1238683]\n\tOrdinal0 [0x00329252+1413714]\n\tOrdinal0 [0x00317B54+1342292]\n\tOrdinal0 [0x003275FA+1406458]\n\tOrdinal0 [0x00317976+1341814]\n\tOrdinal0 [0x002F36B6+1193654]\n\tOrdinal0 [0x002F4546+1197382]\n\tGetHandleVerifier [0x005D9622+1619522]\n\tGetHandleVerifier [0x0068882C+2336844]\n\tGetHandleVerifier [0x004D23E1+541697]\n\tGetHandleVerifier [0x004D1443+537699]\n\tOrdinal0 [0x003DD18E+2150798]\n\tOrdinal0 [0x003E1518+2168088]\n\tOrdinal0 [0x003E1660+2168416]\n\tOrdinal0 [0x003EB330+2208560]\n\tBaseThreadInitThunk [0x75AAFA29+25]\n\tRtlGetAppContainerNamedObjectPath [0x77447A9E+286]\n\tRtlGetAppContainerNamedObjectPath [0x77447A6E+238]\n",
     "output_type": "error",
     "traceback": [
      "\u001b[1;31m---------------------------------------------------------------------------\u001b[0m",
      "\u001b[1;31mNoSuchElementException\u001b[0m                    Traceback (most recent call last)",
      "\u001b[1;32m~\\AppData\\Local\\Temp/ipykernel_16888/2153921590.py\u001b[0m in \u001b[0;36m<module>\u001b[1;34m\u001b[0m\n\u001b[0;32m     12\u001b[0m \u001b[1;33m\u001b[0m\u001b[0m\n\u001b[0;32m     13\u001b[0m     \u001b[1;31m# 식당 이름\u001b[0m\u001b[1;33m\u001b[0m\u001b[1;33m\u001b[0m\u001b[0m\n\u001b[1;32m---> 14\u001b[1;33m     \u001b[0mrestaurant\u001b[0m \u001b[1;33m=\u001b[0m \u001b[0mdriver\u001b[0m\u001b[1;33m.\u001b[0m\u001b[0mfind_element_by_class_name\u001b[0m\u001b[1;33m(\u001b[0m\u001b[1;34m'x3AX1-LfntMc-header-title-title.gm2-headline-5'\u001b[0m\u001b[1;33m)\u001b[0m\u001b[1;33m.\u001b[0m\u001b[0mtext\u001b[0m\u001b[1;33m\u001b[0m\u001b[1;33m\u001b[0m\u001b[0m\n\u001b[0m\u001b[0;32m     15\u001b[0m \u001b[1;33m\u001b[0m\u001b[0m\n\u001b[0;32m     16\u001b[0m     \u001b[1;32mtry\u001b[0m\u001b[1;33m:\u001b[0m\u001b[1;33m\u001b[0m\u001b[1;33m\u001b[0m\u001b[0m\n",
      "\u001b[1;32m~\\anaconda3\\lib\\site-packages\\selenium\\webdriver\\remote\\webdriver.py\u001b[0m in \u001b[0;36mfind_element_by_class_name\u001b[1;34m(self, name)\u001b[0m\n\u001b[0;32m    758\u001b[0m             \u001b[0mstacklevel\u001b[0m\u001b[1;33m=\u001b[0m\u001b[1;36m2\u001b[0m\u001b[1;33m,\u001b[0m\u001b[1;33m\u001b[0m\u001b[1;33m\u001b[0m\u001b[0m\n\u001b[0;32m    759\u001b[0m         )\n\u001b[1;32m--> 760\u001b[1;33m         \u001b[1;32mreturn\u001b[0m \u001b[0mself\u001b[0m\u001b[1;33m.\u001b[0m\u001b[0mfind_element\u001b[0m\u001b[1;33m(\u001b[0m\u001b[0mby\u001b[0m\u001b[1;33m=\u001b[0m\u001b[0mBy\u001b[0m\u001b[1;33m.\u001b[0m\u001b[0mCLASS_NAME\u001b[0m\u001b[1;33m,\u001b[0m \u001b[0mvalue\u001b[0m\u001b[1;33m=\u001b[0m\u001b[0mname\u001b[0m\u001b[1;33m)\u001b[0m\u001b[1;33m\u001b[0m\u001b[1;33m\u001b[0m\u001b[0m\n\u001b[0m\u001b[0;32m    761\u001b[0m \u001b[1;33m\u001b[0m\u001b[0m\n\u001b[0;32m    762\u001b[0m     \u001b[1;32mdef\u001b[0m \u001b[0mfind_elements_by_class_name\u001b[0m\u001b[1;33m(\u001b[0m\u001b[0mself\u001b[0m\u001b[1;33m,\u001b[0m \u001b[0mname\u001b[0m\u001b[1;33m)\u001b[0m \u001b[1;33m->\u001b[0m \u001b[0mWebElement\u001b[0m\u001b[1;33m:\u001b[0m\u001b[1;33m\u001b[0m\u001b[1;33m\u001b[0m\u001b[0m\n",
      "\u001b[1;32m~\\anaconda3\\lib\\site-packages\\selenium\\webdriver\\remote\\webdriver.py\u001b[0m in \u001b[0;36mfind_element\u001b[1;34m(self, by, value)\u001b[0m\n\u001b[0;32m   1242\u001b[0m             \u001b[0mvalue\u001b[0m \u001b[1;33m=\u001b[0m \u001b[1;34m'[name=\"%s\"]'\u001b[0m \u001b[1;33m%\u001b[0m \u001b[0mvalue\u001b[0m\u001b[1;33m\u001b[0m\u001b[1;33m\u001b[0m\u001b[0m\n\u001b[0;32m   1243\u001b[0m \u001b[1;33m\u001b[0m\u001b[0m\n\u001b[1;32m-> 1244\u001b[1;33m         return self.execute(Command.FIND_ELEMENT, {\n\u001b[0m\u001b[0;32m   1245\u001b[0m             \u001b[1;34m'using'\u001b[0m\u001b[1;33m:\u001b[0m \u001b[0mby\u001b[0m\u001b[1;33m,\u001b[0m\u001b[1;33m\u001b[0m\u001b[1;33m\u001b[0m\u001b[0m\n\u001b[0;32m   1246\u001b[0m             'value': value})['value']\n",
      "\u001b[1;32m~\\anaconda3\\lib\\site-packages\\selenium\\webdriver\\remote\\webdriver.py\u001b[0m in \u001b[0;36mexecute\u001b[1;34m(self, driver_command, params)\u001b[0m\n\u001b[0;32m    422\u001b[0m         \u001b[0mresponse\u001b[0m \u001b[1;33m=\u001b[0m \u001b[0mself\u001b[0m\u001b[1;33m.\u001b[0m\u001b[0mcommand_executor\u001b[0m\u001b[1;33m.\u001b[0m\u001b[0mexecute\u001b[0m\u001b[1;33m(\u001b[0m\u001b[0mdriver_command\u001b[0m\u001b[1;33m,\u001b[0m \u001b[0mparams\u001b[0m\u001b[1;33m)\u001b[0m\u001b[1;33m\u001b[0m\u001b[1;33m\u001b[0m\u001b[0m\n\u001b[0;32m    423\u001b[0m         \u001b[1;32mif\u001b[0m \u001b[0mresponse\u001b[0m\u001b[1;33m:\u001b[0m\u001b[1;33m\u001b[0m\u001b[1;33m\u001b[0m\u001b[0m\n\u001b[1;32m--> 424\u001b[1;33m             \u001b[0mself\u001b[0m\u001b[1;33m.\u001b[0m\u001b[0merror_handler\u001b[0m\u001b[1;33m.\u001b[0m\u001b[0mcheck_response\u001b[0m\u001b[1;33m(\u001b[0m\u001b[0mresponse\u001b[0m\u001b[1;33m)\u001b[0m\u001b[1;33m\u001b[0m\u001b[1;33m\u001b[0m\u001b[0m\n\u001b[0m\u001b[0;32m    425\u001b[0m             response['value'] = self._unwrap_value(\n\u001b[0;32m    426\u001b[0m                 response.get('value', None))\n",
      "\u001b[1;32m~\\anaconda3\\lib\\site-packages\\selenium\\webdriver\\remote\\errorhandler.py\u001b[0m in \u001b[0;36mcheck_response\u001b[1;34m(self, response)\u001b[0m\n\u001b[0;32m    245\u001b[0m                 \u001b[0malert_text\u001b[0m \u001b[1;33m=\u001b[0m \u001b[0mvalue\u001b[0m\u001b[1;33m[\u001b[0m\u001b[1;34m'alert'\u001b[0m\u001b[1;33m]\u001b[0m\u001b[1;33m.\u001b[0m\u001b[0mget\u001b[0m\u001b[1;33m(\u001b[0m\u001b[1;34m'text'\u001b[0m\u001b[1;33m)\u001b[0m\u001b[1;33m\u001b[0m\u001b[1;33m\u001b[0m\u001b[0m\n\u001b[0;32m    246\u001b[0m             \u001b[1;32mraise\u001b[0m \u001b[0mexception_class\u001b[0m\u001b[1;33m(\u001b[0m\u001b[0mmessage\u001b[0m\u001b[1;33m,\u001b[0m \u001b[0mscreen\u001b[0m\u001b[1;33m,\u001b[0m \u001b[0mstacktrace\u001b[0m\u001b[1;33m,\u001b[0m \u001b[0malert_text\u001b[0m\u001b[1;33m)\u001b[0m  \u001b[1;31m# type: ignore[call-arg]  # mypy is not smart enough here\u001b[0m\u001b[1;33m\u001b[0m\u001b[1;33m\u001b[0m\u001b[0m\n\u001b[1;32m--> 247\u001b[1;33m         \u001b[1;32mraise\u001b[0m \u001b[0mexception_class\u001b[0m\u001b[1;33m(\u001b[0m\u001b[0mmessage\u001b[0m\u001b[1;33m,\u001b[0m \u001b[0mscreen\u001b[0m\u001b[1;33m,\u001b[0m \u001b[0mstacktrace\u001b[0m\u001b[1;33m)\u001b[0m\u001b[1;33m\u001b[0m\u001b[1;33m\u001b[0m\u001b[0m\n\u001b[0m\u001b[0;32m    248\u001b[0m \u001b[1;33m\u001b[0m\u001b[0m\n\u001b[0;32m    249\u001b[0m     \u001b[1;32mdef\u001b[0m \u001b[0m_value_or_default\u001b[0m\u001b[1;33m(\u001b[0m\u001b[0mself\u001b[0m\u001b[1;33m,\u001b[0m \u001b[0mobj\u001b[0m\u001b[1;33m:\u001b[0m \u001b[0mMapping\u001b[0m\u001b[1;33m[\u001b[0m\u001b[0m_KT\u001b[0m\u001b[1;33m,\u001b[0m \u001b[0m_VT\u001b[0m\u001b[1;33m]\u001b[0m\u001b[1;33m,\u001b[0m \u001b[0mkey\u001b[0m\u001b[1;33m:\u001b[0m \u001b[0m_KT\u001b[0m\u001b[1;33m,\u001b[0m \u001b[0mdefault\u001b[0m\u001b[1;33m:\u001b[0m \u001b[0m_VT\u001b[0m\u001b[1;33m)\u001b[0m \u001b[1;33m->\u001b[0m \u001b[0m_VT\u001b[0m\u001b[1;33m:\u001b[0m\u001b[1;33m\u001b[0m\u001b[1;33m\u001b[0m\u001b[0m\n",
      "\u001b[1;31mNoSuchElementException\u001b[0m: Message: no such element: Unable to locate element: {\"method\":\"css selector\",\"selector\":\".x3AX1-LfntMc-header-title-title.gm2-headline-5\"}\n  (Session info: chrome=97.0.4692.71)\nStacktrace:\nBacktrace:\n\tOrdinal0 [0x0043FDC3+2555331]\n\tOrdinal0 [0x003D77F1+2127857]\n\tOrdinal0 [0x002D2E08+1060360]\n\tOrdinal0 [0x002FE49E+1238174]\n\tOrdinal0 [0x002FE69B+1238683]\n\tOrdinal0 [0x00329252+1413714]\n\tOrdinal0 [0x00317B54+1342292]\n\tOrdinal0 [0x003275FA+1406458]\n\tOrdinal0 [0x00317976+1341814]\n\tOrdinal0 [0x002F36B6+1193654]\n\tOrdinal0 [0x002F4546+1197382]\n\tGetHandleVerifier [0x005D9622+1619522]\n\tGetHandleVerifier [0x0068882C+2336844]\n\tGetHandleVerifier [0x004D23E1+541697]\n\tGetHandleVerifier [0x004D1443+537699]\n\tOrdinal0 [0x003DD18E+2150798]\n\tOrdinal0 [0x003E1518+2168088]\n\tOrdinal0 [0x003E1660+2168416]\n\tOrdinal0 [0x003EB330+2208560]\n\tBaseThreadInitThunk [0x75AAFA29+25]\n\tRtlGetAppContainerNamedObjectPath [0x77447A9E+286]\n\tRtlGetAppContainerNamedObjectPath [0x77447A6E+238]\n"
     ]
    }
   ],
   "source": [
    "review_list = []\n",
    "\n",
    "i = 0\n",
    "x = 0\n",
    "j = 1\n",
    "for x in range(len(url_list)):\n",
    "    \n",
    "    # url로 이동 \n",
    "    driver.get(url_list[x])\n",
    "    time.sleep(1)\n",
    "    x += 1\n",
    "    \n",
    "    # 식당 이름\n",
    "    restaurant = driver.find_element_by_class_name('x3AX1-LfntMc-header-title-title.gm2-headline-5').text\n",
    "    \n",
    "    try:\n",
    "        # 리뷰 더보기 클릭 \n",
    "        driver.find_element_by_class_name('Yr7JMd-pane-hSRGPd').send_keys(Keys.ENTER)\n",
    "#         driver.find_element_by_css_selector('#pane > div > div.Yr7JMd-pane-content.cYB2Ge-oHo7ed > div > div > div.x3AX1-LfntMc-header-title > div.x3AX1-LfntMc-header-title-ma6Yeb-haAclf > div.x3AX1-LfntMc-header-title-ij8cu > div.x3AX1-LfntMc-header-title-ij8cu-haAclf > div > div.gm2-body-2.h0ySl-wcwwM-RWgCYc > span:nth-child(3) > span > span > span.OAO0-ZEhYpd-vJ7A6b.OAO0-ZEhYpd-vJ7A6b-qnnXGd > span:nth-child(1) > button').click()\n",
    "        time.sleep(1)\n",
    "\n",
    "        try:\n",
    "\n",
    "            for i in range(500): # 리뷰 500개까지 스크랩\n",
    "                review_dict = {}\n",
    "                \n",
    "                name = driver.find_elements_by_class_name('ODSEW-ShBeI-title')[i].text # 작성자 \n",
    "#                 date = driver.find_elements_by_class_name('ODSEW-ShBeI-RgZmSc-date')[i].text # 작성일\n",
    "                date = driver.find_elements_by_class_name('ODSEW-ShBeI-RgZmSc-date-J42Xof-Hjleke')[i].text.replace('\\nGoogle\\n에 게시됨','')\n",
    "                text = driver.find_elements_by_class_name('ODSEW-ShBeI-text')[i].text # 내용\n",
    "                rating = int(driver.find_elements_by_class_name('ODSEW-ShBeI-RGxYjb-wcwwM')[i].text.replace('/5',''))\n",
    "                \n",
    "                review_dict['dataSource'] = 'GOOGLEMAPS'\n",
    "                review_dict['searchKeyword'] = f'{keyword}' \n",
    "                review_dict['reviewTarget'] = restaurant\n",
    "                review_dict['author'] = name\n",
    "                review_dict['reviewDate'] = date\n",
    "                review_dict['reviewText'] = text.replace('\\n',' ')\n",
    "                review_dict['rating'] = rating\n",
    "                review_dict['reviewUrl'] = url_list[x]\n",
    "                \n",
    "                print(review_dict)\n",
    "                review_list.append(review_dict)\n",
    "                \n",
    "                i += 1\n",
    "\n",
    "                # 스크롤 다운 \n",
    "                driver.find_element_by_class_name('siAUzd-neVct.section-scrollbox.cYB2Ge-oHo7ed.cYB2Ge-ti6hGc').send_keys(Keys.PAGE_DOWN)\n",
    "        except:\n",
    "            print('ok')\n",
    "            continue\n",
    "    except:\n",
    "        continue\n",
    "\n"
   ]
  },
  {
   "cell_type": "markdown",
   "id": "9a8859fa",
   "metadata": {},
   "source": [
    "##### DataFrame"
   ]
  },
  {
   "cell_type": "code",
   "execution_count": null,
   "id": "a99f001d",
   "metadata": {
    "scrolled": true
   },
   "outputs": [],
   "source": [
    "review_df = pd.DataFrame(review_list)\n",
    "review_df"
   ]
  },
  {
   "cell_type": "markdown",
   "id": "8c4abdd6",
   "metadata": {},
   "source": [
    "##### To csv file"
   ]
  },
  {
   "cell_type": "code",
   "execution_count": null,
   "id": "cefbf08d",
   "metadata": {},
   "outputs": [],
   "source": [
    "review_df.to_csv(f'{file_path}{file_name}.csv', index=True)"
   ]
  },
  {
   "cell_type": "code",
   "execution_count": null,
   "id": "afa4e903",
   "metadata": {},
   "outputs": [],
   "source": []
  },
  {
   "cell_type": "code",
   "execution_count": null,
   "id": "d5efa83c",
   "metadata": {},
   "outputs": [],
   "source": []
  },
  {
   "cell_type": "code",
   "execution_count": null,
   "id": "4f4af3ab",
   "metadata": {},
   "outputs": [],
   "source": []
  }
 ],
 "metadata": {
  "kernelspec": {
   "display_name": "Python 3 (ipykernel)",
   "language": "python",
   "name": "python3"
  },
  "language_info": {
   "codemirror_mode": {
    "name": "ipython",
    "version": 3
   },
   "file_extension": ".py",
   "mimetype": "text/x-python",
   "name": "python",
   "nbconvert_exporter": "python",
   "pygments_lexer": "ipython3",
   "version": "3.9.7"
  }
 },
 "nbformat": 4,
 "nbformat_minor": 5
}
